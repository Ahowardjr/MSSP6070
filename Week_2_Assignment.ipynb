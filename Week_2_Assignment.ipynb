{
  "nbformat": 4,
  "nbformat_minor": 0,
  "metadata": {
    "colab": {
      "provenance": [],
      "authorship_tag": "ABX9TyNGQGxcS2Lb1rjMM7c1ibKo",
      "include_colab_link": true
    },
    "kernelspec": {
      "name": "python3",
      "display_name": "Python 3"
    },
    "language_info": {
      "name": "python"
    }
  },
  "cells": [
    {
      "cell_type": "markdown",
      "metadata": {
        "id": "view-in-github",
        "colab_type": "text"
      },
      "source": [
        "<a href=\"https://colab.research.google.com/github/Ahowardjr/MSSP6070/blob/main/Week_2_Assignment.ipynb\" target=\"_parent\"><img src=\"https://colab.research.google.com/assets/colab-badge.svg\" alt=\"Open In Colab\"/></a>"
      ]
    },
    {
      "cell_type": "code",
      "source": [
        "spam = [2,4,6,8,10]\n",
        "spam[2] = 'hello'"
      ],
      "metadata": {
        "id": "BVrFZP4RAyNT"
      },
      "execution_count": 6,
      "outputs": []
    },
    {
      "cell_type": "code",
      "source": [
        "letters = [ 'a','b','c','d']\n",
        "letters [int(int('3'*2)//11)]"
      ],
      "metadata": {
        "colab": {
          "base_uri": "https://localhost:8080/",
          "height": 35
        },
        "id": "3LPfMSEQBig-",
        "outputId": "5faf6655-a3a9-416c-e28c-4d13fd938535"
      },
      "execution_count": 10,
      "outputs": [
        {
          "output_type": "execute_result",
          "data": {
            "text/plain": [
              "'d'"
            ],
            "application/vnd.google.colaboratory.intrinsic+json": {
              "type": "string"
            }
          },
          "metadata": {},
          "execution_count": 10
        }
      ]
    },
    {
      "cell_type": "markdown",
      "source": [
        "'3' is a string and was multipled by 2, just repeating the number. So '3' *2 = '33\n",
        "int ('33') //11.\n",
        "int 33/11 = 3\n",
        "Int(3)\n",
        "Index D = 3 as the indexes start at 0 value (a=0, b=1, c=2, d=3)\n"
      ],
      "metadata": {
        "id": "Suc9tnQEDPFX"
      }
    },
    {
      "cell_type": "code",
      "source": [
        "letters [-1]"
      ],
      "metadata": {
        "colab": {
          "base_uri": "https://localhost:8080/",
          "height": 35
        },
        "id": "NMOefHpUCvzP",
        "outputId": "b1f73432-c6d2-463e-9e27-3fafeb2ad208"
      },
      "execution_count": 12,
      "outputs": [
        {
          "output_type": "execute_result",
          "data": {
            "text/plain": [
              "'d'"
            ],
            "application/vnd.google.colaboratory.intrinsic+json": {
              "type": "string"
            }
          },
          "metadata": {},
          "execution_count": 12
        }
      ]
    },
    {
      "cell_type": "code",
      "source": [
        "letters [:2]"
      ],
      "metadata": {
        "colab": {
          "base_uri": "https://localhost:8080/"
        },
        "id": "DqfrhWajXXMx",
        "outputId": "50ea16c8-c702-4588-82bf-f8d26c991737"
      },
      "execution_count": 15,
      "outputs": [
        {
          "output_type": "execute_result",
          "data": {
            "text/plain": [
              "['a', 'b']"
            ]
          },
          "metadata": {},
          "execution_count": 15
        }
      ]
    },
    {
      "cell_type": "code",
      "source": [
        "my_list = [1,2,3,4,5]\n",
        "my_tuple = tuple(my_list)\n",
        "\n",
        "new_list = list(my_tuple)\n",
        "print(\"List:\", new_list)"
      ],
      "metadata": {
        "colab": {
          "base_uri": "https://localhost:8080/"
        },
        "id": "MjK701UoiZKt",
        "outputId": "3b88f8f3-aa36-4b94-8f4f-f4592c2a7192"
      },
      "execution_count": 21,
      "outputs": [
        {
          "output_type": "stream",
          "name": "stdout",
          "text": [
            "List: [1, 2, 3, 4, 5]\n"
          ]
        }
      ]
    },
    {
      "cell_type": "code",
      "source": [
        "spam = ['apples, bananas, tofu, cats']\n",
        "\"apple, banans, tofu, and cats\"\n",
        "def comma_code(items):\n",
        "    pass"
      ],
      "metadata": {
        "id": "tSiqjbRS0gQY"
      },
      "execution_count": 30,
      "outputs": []
    },
    {
      "cell_type": "code",
      "source": [
        "def comma_code(items) :\n",
        "    if len(items) == 0:\n",
        "      return ''\n",
        "    elif len (items) == 1:\n",
        "      return items[0]\n",
        "    else:\n",
        "      return ','.join(items[:-1]) + ', and ' + items[-1]"
      ],
      "metadata": {
        "id": "HdfBxFeq5YEG"
      },
      "execution_count": 60,
      "outputs": []
    },
    {
      "cell_type": "code",
      "source": [
        "spam = ['apples', 'bananas', 'tofu', 'cats']\n",
        "print(comma_code(spam))\n",
        "print(comma_code(['apples']))\n",
        "print(comma_code(['apples', 'bananas']))\n",
        "print(comma_code([]))"
      ],
      "metadata": {
        "colab": {
          "base_uri": "https://localhost:8080/"
        },
        "id": "BW7faOJo8YQt",
        "outputId": "eb3d95fb-a93d-4b64-e8de-776910a89f59"
      },
      "execution_count": 79,
      "outputs": [
        {
          "output_type": "stream",
          "name": "stdout",
          "text": [
            "apples,bananas,tofu, and cats\n",
            "apples\n",
            "apples, and bananas\n",
            "\n"
          ]
        }
      ]
    },
    {
      "cell_type": "code",
      "source": [
        "spam = ['rain', 'snow', 'wind', 'sun']\n",
        "print(comma_code(spam))"
      ],
      "metadata": {
        "colab": {
          "base_uri": "https://localhost:8080/"
        },
        "id": "W9J2tJPD_i-q",
        "outputId": "8e043da2-36c4-471b-8dcb-7b7884d58a6e"
      },
      "execution_count": 80,
      "outputs": [
        {
          "output_type": "stream",
          "name": "stdout",
          "text": [
            "rain,snow,wind, and sun\n"
          ]
        }
      ]
    },
    {
      "cell_type": "code",
      "source": [
        "list1 = []\n",
        "result1 = comma_code(list1)\n",
        "print(f\"Input: {list1}\")\n",
        "print(f\"Output: '{result1}'\")"
      ],
      "metadata": {
        "colab": {
          "base_uri": "https://localhost:8080/"
        },
        "id": "ybg-5zl77jtE",
        "outputId": "d58d29b0-a212-43bc-8c93-dcb128e4476e"
      },
      "execution_count": 56,
      "outputs": [
        {
          "output_type": "stream",
          "name": "stdout",
          "text": [
            "Input: []\n",
            "Output: ''\n"
          ]
        }
      ]
    },
    {
      "cell_type": "code",
      "metadata": {
        "colab": {
          "base_uri": "https://localhost:8080/"
        },
        "id": "1ee92e1c",
        "outputId": "baf9cfeb-6355-43e0-ba52-0816aa6bacf1"
      },
      "source": [
        "# Example 1: An empty list\n",
        "list1 = []\n",
        "result1 = comma_code(list1)\n",
        "print(f\"Input: {list1}\")\n",
        "print(f\"Output: '{result1}'\")"
      ],
      "execution_count": 48,
      "outputs": [
        {
          "output_type": "stream",
          "name": "stdout",
          "text": [
            "Input: []\n",
            "Output: ''\n"
          ]
        }
      ]
    },
    {
      "cell_type": "code",
      "metadata": {
        "id": "9bb79430"
      },
      "source": [
        "def comma_code(spam):\n",
        "    if len(spam) == 0:\n",
        "        return ''\n",
        "    elif len(spam) == 1:\n",
        "        return spam[0]\n",
        "    else:\n",
        "        return ', '.join(spam[:-1]) + ', and ' + spam[-1]"
      ],
      "execution_count": 47,
      "outputs": []
    }
  ]
}