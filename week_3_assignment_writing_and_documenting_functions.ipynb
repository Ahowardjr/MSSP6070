{
  "nbformat": 4,
  "nbformat_minor": 0,
  "metadata": {
    "colab": {
      "provenance": [],
      "authorship_tag": "ABX9TyPgb9k8CIaF7a0Yki+zW7ec",
      "include_colab_link": true
    },
    "kernelspec": {
      "name": "python3",
      "display_name": "Python 3"
    },
    "language_info": {
      "name": "python"
    }
  },
  "cells": [
    {
      "cell_type": "markdown",
      "metadata": {
        "id": "view-in-github",
        "colab_type": "text"
      },
      "source": [
        "<a href=\"https://colab.research.google.com/github/Ahowardjr/MSSP6070/blob/main/week_3_assignment_writing_and_documenting_functions.ipynb\" target=\"_parent\"><img src=\"https://colab.research.google.com/assets/colab-badge.svg\" alt=\"Open In Colab\"/></a>"
      ]
    },
    {
      "cell_type": "code",
      "execution_count": null,
      "metadata": {
        "colab": {
          "base_uri": "https://localhost:8080/"
        },
        "id": "SdaL_WgJujaz",
        "outputId": "02ead984-42b5-4f45-addb-f405af35348e"
      },
      "outputs": [
        {
          "output_type": "stream",
          "name": "stdout",
          "text": [
            "Hello, Andre\n"
          ]
        }
      ],
      "source": [
        "def greet(name):\n",
        "  return f\"Hello, {name}\"\n",
        "\n",
        "print(greet(\"Andre\"))"
      ]
    },
    {
      "cell_type": "code",
      "source": [
        "print(greet(\"Andre\"))"
      ],
      "metadata": {
        "colab": {
          "base_uri": "https://localhost:8080/"
        },
        "id": "UP_-FT2VROIj",
        "outputId": "ee086c8f-cae9-442c-9691-180deca358a7"
      },
      "execution_count": null,
      "outputs": [
        {
          "output_type": "stream",
          "name": "stdout",
          "text": [
            "Hello, Andre\n"
          ]
        }
      ]
    },
    {
      "cell_type": "code",
      "source": [
        "message = \"Global Hello\"\n",
        "def show_message():\n",
        "  message = \"Local Hello\"\n",
        "  print (message)\n",
        "\n",
        "show_message()\n",
        "print (message)"
      ],
      "metadata": {
        "colab": {
          "base_uri": "https://localhost:8080/"
        },
        "id": "0c2Emr_TSr1i",
        "outputId": "4374204a-0a3d-41e7-8ca4-0c887ce0c6ef"
      },
      "execution_count": null,
      "outputs": [
        {
          "output_type": "stream",
          "name": "stdout",
          "text": [
            "Local Hello\n",
            "Global Hello\n"
          ]
        }
      ]
    },
    {
      "cell_type": "code",
      "source": [
        "def temp_func():\n",
        "  temp=42\n",
        "  return temp\n",
        "\n",
        "results = temp_func()\n",
        "print(results)\n"
      ],
      "metadata": {
        "colab": {
          "base_uri": "https://localhost:8080/"
        },
        "id": "-QOKCjTXTVii",
        "outputId": "c23cae2f-5407-4762-d3e9-f774cf383a7b"
      },
      "execution_count": null,
      "outputs": [
        {
          "output_type": "stream",
          "name": "stdout",
          "text": [
            "42\n"
          ]
        }
      ]
    },
    {
      "cell_type": "code",
      "source": [
        "print 10/0"
      ],
      "metadata": {
        "colab": {
          "base_uri": "https://localhost:8080/",
          "height": 106
        },
        "id": "e8ocky4JWNQd",
        "outputId": "50547d85-c423-4b38-e01e-8f0eed85004c"
      },
      "execution_count": null,
      "outputs": [
        {
          "output_type": "error",
          "ename": "SyntaxError",
          "evalue": "Missing parentheses in call to 'print'. Did you mean print(...)? (ipython-input-1991732522.py, line 1)",
          "traceback": [
            "\u001b[0;36m  File \u001b[0;32m\"/tmp/ipython-input-1991732522.py\"\u001b[0;36m, line \u001b[0;32m1\u001b[0m\n\u001b[0;31m    print 10/0\u001b[0m\n\u001b[0m    ^\u001b[0m\n\u001b[0;31mSyntaxError\u001b[0m\u001b[0;31m:\u001b[0m Missing parentheses in call to 'print'. Did you mean print(...)?\n"
          ]
        }
      ]
    },
    {
      "cell_type": "code",
      "source": [
        "try:\n",
        "  print(10/0)\n",
        "except ZeroDivisionError:\n",
        "  print(\"You cannot divide by zero!\")"
      ],
      "metadata": {
        "colab": {
          "base_uri": "https://localhost:8080/"
        },
        "id": "LgPQqJCPWbT3",
        "outputId": "ef107184-6174-494f-d703-9306612e6cd2"
      },
      "execution_count": null,
      "outputs": [
        {
          "output_type": "stream",
          "name": "stdout",
          "text": [
            "You cannot divide by zero!\n"
          ]
        }
      ]
    },
    {
      "cell_type": "markdown",
      "source": [
        "3a -the code in the function executes only when the function is called."
      ],
      "metadata": {
        "id": "QZWJq_qXZnzx"
      }
    },
    {
      "cell_type": "markdown",
      "source": [
        "3b - there is one global scopre per program; there can be multiple local scopes."
      ],
      "metadata": {
        "id": "frqdRzcZdm9A"
      }
    },
    {
      "cell_type": "markdown",
      "source": [
        "3c - When the function calls return, the local variable are destroyed and a new set of local variables are created."
      ],
      "metadata": {
        "id": "-ZiDFDsrgUXT"
      }
    },
    {
      "cell_type": "markdown",
      "source": [
        "3d - Try & Except functions catch errors and stops the program from crashinhg."
      ],
      "metadata": {
        "id": "S2zhKLx7Zpgw"
      }
    }
  ]
}